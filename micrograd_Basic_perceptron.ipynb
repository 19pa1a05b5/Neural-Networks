{
  "nbformat": 4,
  "nbformat_minor": 0,
  "metadata": {
    "colab": {
      "provenance": [],
      "authorship_tag": "ABX9TyPsexL5yoQvkEAlA+DPumNJ",
      "include_colab_link": true
    },
    "kernelspec": {
      "name": "python3",
      "display_name": "Python 3"
    },
    "language_info": {
      "name": "python"
    }
  },
  "cells": [
    {
      "cell_type": "markdown",
      "metadata": {
        "id": "view-in-github",
        "colab_type": "text"
      },
      "source": [
        "<a href=\"https://colab.research.google.com/github/19pa1a05b5/Neural-Networks/blob/main/micrograd_Basic_perceptron.ipynb\" target=\"_parent\"><img src=\"https://colab.research.google.com/assets/colab-badge.svg\" alt=\"Open In Colab\"/></a>"
      ]
    },
    {
      "cell_type": "code",
      "execution_count": null,
      "metadata": {
        "id": "L3BbqeFDGWTp"
      },
      "outputs": [],
      "source": [
        "import math\n",
        "import numpy as np\n",
        "import matplotlib.pyplot as plt\n",
        "%matplotlib inline"
      ]
    },
    {
      "cell_type": "code",
      "source": [
        "def f(x):\n",
        "  return 3*x**2 - 4*x + 5"
      ],
      "metadata": {
        "id": "C58W7K1dGiKa"
      },
      "execution_count": null,
      "outputs": []
    },
    {
      "cell_type": "code",
      "source": [
        "f(3)"
      ],
      "metadata": {
        "colab": {
          "base_uri": "https://localhost:8080/"
        },
        "id": "hbgD6tUPGoMX",
        "outputId": "05dea6b6-6dfc-4d80-ef6e-c0915e75fffa"
      },
      "execution_count": null,
      "outputs": [
        {
          "output_type": "execute_result",
          "data": {
            "text/plain": [
              "20"
            ]
          },
          "metadata": {},
          "execution_count": 3
        }
      ]
    },
    {
      "cell_type": "code",
      "source": [
        "xs = np.arange(-8,8,0.1)\n",
        "ys = f(xs)\n",
        "plt.plot(xs,ys)"
      ],
      "metadata": {
        "colab": {
          "base_uri": "https://localhost:8080/",
          "height": 447
        },
        "id": "kypczX7BGsEC",
        "outputId": "5bf40159-0382-4ebd-cb38-7fb01500bfd7"
      },
      "execution_count": null,
      "outputs": [
        {
          "output_type": "execute_result",
          "data": {
            "text/plain": [
              "[<matplotlib.lines.Line2D at 0x7baa155b4190>]"
            ]
          },
          "metadata": {},
          "execution_count": 4
        },
        {
          "output_type": "display_data",
          "data": {
            "text/plain": [
              "<Figure size 640x480 with 1 Axes>"
            ],
            "image/png": "[encoded data removed]"
          },
          "metadata": {}
        }
      ]
    },
    {
      "cell_type": "code",
      "source": [
        "h = 0.000001\n",
        "x = 2/3\n",
        "(f(x + h) - f(x))/h"
      ],
      "metadata": {
        "colab": {
          "base_uri": "https://localhost:8080/"
        },
        "id": "5xDaOtZ6G71Z",
        "outputId": "0d28bed8-3582-4928-e2de-9cc9bf828b0d"
      },
      "execution_count": null,
      "outputs": [
        {
          "output_type": "execute_result",
          "data": {
            "text/plain": [
              "2.999378523327323e-06"
            ]
          },
          "metadata": {},
          "execution_count": 5
        }
      ]
    },
    {
      "cell_type": "markdown",
      "source": [
        "The Above calculations and graph told that how the differentitaion of a function can be done."
      ],
      "metadata": {
        "id": "chlklKXsNvok"
      }
    },
    {
      "cell_type": "code",
      "source": [
        "#Lets create some complex equations\n",
        "a=10\n",
        "b=5\n",
        "c=4\n",
        "d=a*(b+c)\n",
        "d"
      ],
      "metadata": {
        "colab": {
          "base_uri": "https://localhost:8080/"
        },
        "id": "TSi8ctGBNog2",
        "outputId": "1d67e4e2-8439-4fcc-8f25-77593e5a36c4"
      },
      "execution_count": null,
      "outputs": [
        {
          "output_type": "execute_result",
          "data": {
            "text/plain": [
              "90"
            ]
          },
          "metadata": {},
          "execution_count": 7
        }
      ]
    },
    {
      "cell_type": "code",
      "source": [
        "h=0.00001\n",
        "\n",
        "a=4\n",
        "b=2\n",
        "c=6\n",
        "\n",
        "d1=c*(a+b)\n",
        "c+=h\n",
        "d2=c*(a+b)\n",
        "#here we are trying to know the slope of the function or the differentiation of the function with respect to c. Similarly we can determine for all other varibales.\n",
        "print(\"d1\",d1)\n",
        "print(\"d2\",d2)\n",
        "print(\"slope\",(d2-d1)/h)"
      ],
      "metadata": {
        "colab": {
          "base_uri": "https://localhost:8080/"
        },
        "id": "cp9gPYJbOyM4",
        "outputId": "fb1989f0-1baf-42d4-f332-6844c9bc0790"
      },
      "execution_count": null,
      "outputs": [
        {
          "output_type": "stream",
          "name": "stdout",
          "text": [
            "d1 36\n",
            "d2 36.00006\n",
            "slope 5.999999999772853\n"
          ]
        }
      ]
    },
    {
      "cell_type": "markdown",
      "source": [
        "From here onwards lets build a basic neural network and learn how the forward pass and backpropogation done in a neural network.\n",
        "\n",
        "In order to create a neural network lets create a class called value which is used as part of the neuron to do some calcultions and perform certain tasks."
      ],
      "metadata": {
        "id": "ri96OpcWP4I_"
      }
    },
    {
      "cell_type": "code",
      "source": [],
      "metadata": {
        "id": "WQMc8AKmO4jk"
      },
      "execution_count": null,
      "outputs": []
    }
  ]
}